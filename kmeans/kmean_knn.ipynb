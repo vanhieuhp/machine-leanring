{
 "cells": [
  {
   "cell_type": "code",
   "id": "initial_id",
   "metadata": {
    "collapsed": true,
    "ExecuteTime": {
     "end_time": "2025-01-14T09:09:53.485767Z",
     "start_time": "2025-01-14T09:09:53.479735Z"
    }
   },
   "source": [
    "import numpy as np\n",
    "import matplotlib.pyplot as plt\n",
    "from sklearn import neighbors, datasets\n",
    "from sklearn.model_selection import train_test_split\n",
    "from sklearn.metrics import accuracy_score"
   ],
   "outputs": [],
   "execution_count": 30
  },
  {
   "metadata": {
    "ExecuteTime": {
     "end_time": "2025-01-14T09:02:51.122525Z",
     "start_time": "2025-01-14T09:02:51.118611Z"
    }
   },
   "cell_type": "code",
   "source": [
    "iris = datasets.load_iris()\n",
    "\n",
    "print(type(iris))\n",
    "iris_X = iris.data\n",
    "iris_y = iris.target\n",
    "\n",
    "print(iris_X.shape)\n",
    "print(iris_y.shape)\n",
    "print(f'Number of classes: ${len(np.unique(iris_y))}')\n",
    "print(f'Number of data points:: ${len(np.unique(iris_X))}')"
   ],
   "id": "791b2f1ea171b68a",
   "outputs": [
    {
     "name": "stdout",
     "output_type": "stream",
     "text": [
      "<class 'sklearn.utils._bunch.Bunch'>\n",
      "(150, 4)\n",
      "(150,)\n",
      "[0 0 0 0 0 0 0 0 0 0 0 0 0 0 0 0 0 0 0 0 0 0 0 0 0 0 0 0 0 0 0 0 0 0 0 0 0\n",
      " 0 0 0 0 0 0 0 0 0 0 0 0 0 1 1 1 1 1 1 1 1 1 1 1 1 1 1 1 1 1 1 1 1 1 1 1 1\n",
      " 1 1 1 1 1 1 1 1 1 1 1 1 1 1 1 1 1 1 1 1 1 1 1 1 1 1 2 2 2 2 2 2 2 2 2 2 2\n",
      " 2 2 2 2 2 2 2 2 2 2 2 2 2 2 2 2 2 2 2 2 2 2 2 2 2 2 2 2 2 2 2 2 2 2 2 2 2\n",
      " 2 2]\n",
      "Number of classes: $3\n",
      "Number of data points:: $74\n"
     ]
    }
   ],
   "execution_count": 15
  },
  {
   "metadata": {
    "ExecuteTime": {
     "end_time": "2025-01-14T09:03:58.701575Z",
     "start_time": "2025-01-14T09:03:58.698196Z"
    }
   },
   "cell_type": "code",
   "source": [
    "X0 = iris_X[iris_y == 0,:]\n",
    "print(f\"Samples from class 0: \\n{X0[:5,:]}\")\n",
    "\n",
    "X1 = iris_X[iris_y == 1,:]\n",
    "print(f\"Samples from class 1: \\n{X1[:5,:]}\")\n",
    "\n",
    "X2 = iris_X[iris_y == 2,:]\n",
    "print(f\"Samples from class 2: \\n{X2[:5,:]}\")\n"
   ],
   "id": "582979f2739bc8ba",
   "outputs": [
    {
     "name": "stdout",
     "output_type": "stream",
     "text": [
      "Samples from class 0: \n",
      "[[5.1 3.5 1.4 0.2]\n",
      " [4.9 3.  1.4 0.2]\n",
      " [4.7 3.2 1.3 0.2]\n",
      " [4.6 3.1 1.5 0.2]\n",
      " [5.  3.6 1.4 0.2]]\n",
      "Samples from class 1: \n",
      "[[7.  3.2 4.7 1.4]\n",
      " [6.4 3.2 4.5 1.5]\n",
      " [6.9 3.1 4.9 1.5]\n",
      " [5.5 2.3 4.  1.3]\n",
      " [6.5 2.8 4.6 1.5]]\n",
      "Samples from class 2: \n",
      "[[6.3 3.3 6.  2.5]\n",
      " [5.8 2.7 5.1 1.9]\n",
      " [7.1 3.  5.9 2.1]\n",
      " [6.3 2.9 5.6 1.8]\n",
      " [6.5 3.  5.8 2.2]]\n"
     ]
    }
   ],
   "execution_count": 19
  },
  {
   "metadata": {
    "ExecuteTime": {
     "end_time": "2025-01-14T09:06:51.446952Z",
     "start_time": "2025-01-14T09:06:51.443770Z"
    }
   },
   "cell_type": "code",
   "source": [
    "X_train, X_test, y_train, y_test = train_test_split(\n",
    "    iris_X, iris_y, test_size=50\n",
    ")\n",
    "\n",
    "print(f\"Training size: {len(y_train)}\" )\n",
    "print(f\"Test size    : {len(y_test)}\" )"
   ],
   "id": "81a233e9e1972f4a",
   "outputs": [
    {
     "name": "stdout",
     "output_type": "stream",
     "text": [
      "Training size: 100\n",
      "Test size    : 50\n"
     ]
    }
   ],
   "execution_count": 25
  },
  {
   "metadata": {
    "ExecuteTime": {
     "end_time": "2025-01-14T09:07:55.620513Z",
     "start_time": "2025-01-14T09:07:55.608788Z"
    }
   },
   "cell_type": "code",
   "source": [
    "clf = neighbors.KNeighborsClassifier(n_neighbors = 1, p = 2)\n",
    "clf.fit(X_train, y_train)\n",
    "y_pred = clf.predict(X_test)\n",
    "print('Print results for 20 test data points:')\n",
    "print(\"Predicted labels: \", y_pred[20:40])\n",
    "print(\"Ground truth    : \", y_test[20:40])"
   ],
   "id": "21b565279b7a0b2a",
   "outputs": [
    {
     "name": "stdout",
     "output_type": "stream",
     "text": [
      "Print results for 20 test data points:\n",
      "Predicted labels:  [0 2 1 2 1 1 0 2 1 2 0 1 0 1 0 1 2 1 2 1]\n",
      "Ground truth    :  [0 2 1 1 1 1 0 2 1 2 0 1 0 1 0 1 2 1 2 1]\n"
     ]
    }
   ],
   "execution_count": 27
  },
  {
   "metadata": {
    "ExecuteTime": {
     "end_time": "2025-01-14T09:10:07.295228Z",
     "start_time": "2025-01-14T09:10:07.288940Z"
    }
   },
   "cell_type": "code",
   "source": "print(f\"Accuracy of 1NN: {100*accuracy_score(y_test, y_pred)}%\")",
   "id": "caf6b525305a2de2",
   "outputs": [
    {
     "name": "stdout",
     "output_type": "stream",
     "text": [
      "Accuracy of 1NN: 96.0%\n"
     ]
    }
   ],
   "execution_count": 32
  },
  {
   "metadata": {
    "ExecuteTime": {
     "end_time": "2025-01-14T09:12:12.570663Z",
     "start_time": "2025-01-14T09:12:12.559449Z"
    }
   },
   "cell_type": "code",
   "source": [
    "clf = neighbors.KNeighborsClassifier(n_neighbors = 10, p = 2)\n",
    "clf.fit(X_train, y_train)\n",
    "y_pred = clf.predict(X_test)\n",
    "\n",
    "print(f\"Accuracy of 10NN with major voting: {100*accuracy_score(y_test, y_pred)}\" )"
   ],
   "id": "fe79d6a8d56eda6a",
   "outputs": [
    {
     "name": "stdout",
     "output_type": "stream",
     "text": [
      "Accuracy of 10NN with major voting: 98.0\n"
     ]
    }
   ],
   "execution_count": 33
  },
  {
   "metadata": {
    "ExecuteTime": {
     "end_time": "2025-01-14T09:14:25.436355Z",
     "start_time": "2025-01-14T09:14:25.430926Z"
    }
   },
   "cell_type": "code",
   "source": [
    "clf = neighbors.KNeighborsClassifier(n_neighbors = 10, p = 2, weights = 'distance')\n",
    "clf.fit(X_train, y_train)\n",
    "y_pred = clf.predict(X_test)\n",
    "\n",
    "print(f\"Accuracy of 10NN (1/distance weights): {100*accuracy_score(y_test, y_pred)}\")"
   ],
   "id": "ecb81d7b901b5d4c",
   "outputs": [
    {
     "name": "stdout",
     "output_type": "stream",
     "text": [
      "Accuracy of 10NN (1/distance weights): 96.0\n"
     ]
    }
   ],
   "execution_count": 36
  },
  {
   "metadata": {
    "ExecuteTime": {
     "end_time": "2025-01-14T09:15:42.407162Z",
     "start_time": "2025-01-14T09:15:42.396339Z"
    }
   },
   "cell_type": "code",
   "source": [
    "def myweight(distances):\n",
    "    sigma2 = .5 # we can change this number\n",
    "    return np.exp(-distances**2/sigma2)\n",
    "\n",
    "clf = neighbors.KNeighborsClassifier(n_neighbors = 10, p = 2, weights = myweight)\n",
    "clf.fit(X_train, y_train)\n",
    "y_pred = clf.predict(X_test)\n",
    "\n",
    "print(f\"Accuracy of 10NN (customized weights): {100*accuracy_score(y_test, y_pred)}\")"
   ],
   "id": "e058c5c3d8def553",
   "outputs": [
    {
     "name": "stdout",
     "output_type": "stream",
     "text": [
      "Accuracy of 10NN (customized weights): 96.0\n"
     ]
    }
   ],
   "execution_count": 37
  }
 ],
 "metadata": {
  "kernelspec": {
   "display_name": "Python 3",
   "language": "python",
   "name": "python3"
  },
  "language_info": {
   "codemirror_mode": {
    "name": "ipython",
    "version": 2
   },
   "file_extension": ".py",
   "mimetype": "text/x-python",
   "name": "python",
   "nbconvert_exporter": "python",
   "pygments_lexer": "ipython2",
   "version": "2.7.6"
  }
 },
 "nbformat": 4,
 "nbformat_minor": 5
}
