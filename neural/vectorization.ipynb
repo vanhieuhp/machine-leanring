{
 "cells": [
  {
   "cell_type": "code",
   "execution_count": 3,
   "id": "initial_id",
   "metadata": {
    "ExecuteTime": {
     "end_time": "2024-12-23T23:07:13.027279Z",
     "start_time": "2024-12-23T23:07:13.020280Z"
    },
    "collapsed": true
   },
   "outputs": [
    {
     "name": "stdout",
     "output_type": "stream",
     "text": [
      "[200  17]\n",
      "[[ 1 -3  5]\n",
      " [-2  4 -6]]\n",
      "[-1  1  2]\n"
     ]
    }
   ],
   "source": [
    "import numpy as np\n",
    "from util.lab_utils_common import sigmoid\n",
    "X = np.array([200, 17])\n",
    "W = np.array([[1, -3, 5],\n",
    "              [-2, 4, -6]])\n",
    "b = np.array([-1, 1, 2])\n",
    "\n",
    "print(X)\n",
    "print(W)\n",
    "print(b)"
   ]
  },
  {
   "cell_type": "code",
   "execution_count": 4,
   "id": "b8f26b6cb8636d7a",
   "metadata": {
    "ExecuteTime": {
     "end_time": "2024-12-23T23:07:27.960152Z",
     "start_time": "2024-12-23T23:07:27.951153Z"
    }
   },
   "outputs": [
    {
     "name": "stdout",
     "output_type": "stream",
     "text": [
      "W: [ 1 -2]\n",
      "W: [-3  4]\n",
      "W: [ 5 -6]\n",
      "3 [1.00e+000 7.12e-218 1.00e+000]\n",
      "[1.00e+000 7.12e-218 1.00e+000]\n"
     ]
    }
   ],
   "source": [
    "def dense(a_in, W, b):\n",
    "    units = W.shape[1]\n",
    "    a_out = np.zeros(units)\n",
    "    for j in range(units):\n",
    "        w = W[:,j]\n",
    "        z = np.dot(w, a_in) +b[j]\n",
    "        a_out[j] = sigmoid(z)\n",
    "        print(f\"W: {w}\")\n",
    "    print(units, a_out)\n",
    "    return a_out\n",
    "\n",
    "print(dense(X, W, b))"
   ]
  },
  {
   "cell_type": "code",
   "execution_count": 16,
   "id": "43b760d265c4622",
   "metadata": {
    "ExecuteTime": {
     "end_time": "2024-12-23T23:08:42.372959Z",
     "start_time": "2024-12-23T23:08:42.365962Z"
    }
   },
   "outputs": [
    {
     "name": "stdout",
     "output_type": "stream",
     "text": [
      "A_out: [1.00e+000 7.12e-218 1.00e+000]\n"
     ]
    }
   ],
   "source": [
    "def dense(A_in, W, B):\n",
    "    z = np.matmul(A_in, W) + B\n",
    "    a_out = sigmoid(z)\n",
    "    return a_out\n",
    "\n",
    "print(f\"A_out: {dense(X, W, b)}\")"
   ]
  },
  {
   "cell_type": "code",
   "execution_count": null,
   "id": "fe4317de",
   "metadata": {},
   "outputs": [],
   "source": []
  }
 ],
 "metadata": {
  "kernelspec": {
   "display_name": "tf_env",
   "language": "python",
   "name": "python3"
  },
  "language_info": {
   "codemirror_mode": {
    "name": "ipython",
    "version": 3
   },
   "file_extension": ".py",
   "mimetype": "text/x-python",
   "name": "python",
   "nbconvert_exporter": "python",
   "pygments_lexer": "ipython3",
   "version": "3.9.0"
  }
 },
 "nbformat": 4,
 "nbformat_minor": 5
}
