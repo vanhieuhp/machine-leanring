{
 "cells": [
  {
   "metadata": {},
   "cell_type": "code",
   "outputs": [],
   "execution_count": null,
   "source": [
    "import numpy as np\n",
    "import matplotlib.pyplot as plt"
   ],
   "id": "50e6553bebbac259"
  },
  {
   "metadata": {},
   "cell_type": "code",
   "outputs": [],
   "execution_count": null,
   "source": [
    "# Step 1: Define the dataset (house sizes and prices)\n",
    "X = np.array([1500, 1800, 2400, 3000, 3500, 4000, 4500, 5000])  # Size in sqft\n",
    "y = np.array([400, 450, 600, 650, 700, 750, 800, 850])  # Price in K$\n",
    "\n",
    "print(X)"
   ],
   "id": "b65a0412f6e91b4f"
  },
  {
   "metadata": {},
   "cell_type": "code",
   "outputs": [],
   "execution_count": null,
   "source": [
    "# Reshape X to be a 2D array (for matrix operations)\n",
    "X = X.reshape(-1, 1)\n",
    "y = y.reshape(-1, 1)"
   ],
   "id": "13b11f996bd0eed2"
  },
  {
   "metadata": {},
   "cell_type": "code",
   "outputs": [],
   "execution_count": null,
   "source": [
    "print(X)\n",
    "print(y)"
   ],
   "id": "9ec2be816b0fae31"
  },
  {
   "metadata": {},
   "cell_type": "code",
   "outputs": [],
   "execution_count": null,
   "source": [
    "# Add a column of ones to X to account for the intercept (b)\n",
    "X_b = np.c_[np.ones((X.shape[0], 1)), X] # Add bias term\n",
    "\n",
    "print(X_b)"
   ],
   "id": "d423c14886158601"
  },
  {
   "metadata": {},
   "cell_type": "code",
   "outputs": [],
   "execution_count": null,
   "source": [
    "# Step 2: Initialize parameters (m and b)\n",
    "m = np.zeros((X_b.shape[1], 1))  # m is the slope (coefficients), b is the intercept"
   ],
   "id": "40a236aa915aae08"
  },
  {
   "metadata": {},
   "cell_type": "code",
   "outputs": [],
   "execution_count": null,
   "source": [
    "# Step 3: Define hyperparameters\n",
    "learning_rate = 1e-5\n",
    "iterations = 1000"
   ],
   "id": "3f79cf4715eeed05"
  },
  {
   "metadata": {},
   "cell_type": "code",
   "outputs": [],
   "execution_count": null,
   "source": [
    "# Step 4: Gradient Descent to minimize the cost function (MSE)\n",
    "for i in range(iterations):\n",
    "    # Compute predictions\n",
    "    y_pred = X_b.dot(m)\n",
    "\n",
    "    # Compute the cost function (Mean Squared Error)\n",
    "    cost = np.sum((y_pred - y) ** 2) / (2 * len(X_b))\n",
    "\n",
    "    # Compute the gradients\n",
    "    gradients = X_b.T.dot(y_pred - y) / len(X_b)\n",
    "\n",
    "    # Update the parameters (m)\n",
    "    m -= learning_rate * gradients\n",
    "\n",
    "    # Print cost every 100 iterations to track the learning process\n",
    "    if i % 100 == 0:\n",
    "        print(f\"Iteration {i}: Cost {cost:.4f}\")"
   ],
   "id": "3a86592a3c94b9b2"
  },
  {
   "metadata": {},
   "cell_type": "code",
   "outputs": [],
   "execution_count": null,
   "source": [
    "# Step 5: Model parameters after training\n",
    "print(f\"Trained coefficients (m, b): {m.flatten()}\")\n",
    "\n",
    "# Step 6: Plotting the results\n",
    "plt.scatter(X, y, color='blue', label='Actual simple')  # Actual simple points\n",
    "plt.plot(X, X_b.dot(m), color='red', label='Fitted line')  # Predicted line\n",
    "plt.xlabel('Size (sqft)')\n",
    "plt.ylabel('Price (K$)')\n",
    "plt.title('House Price Prediction using Linear Regression')\n",
    "plt.legend()\n",
    "plt.show()\n",
    "\n",
    "# Step 7: Make predictions\n",
    "new_house_size = 2800  # Example: Predict the price for a 2800 sqft house\n",
    "new_house_size_b = np.array([[1, new_house_size]])  # Add the bias term\n",
    "predicted_price = new_house_size_b.dot(m)\n",
    "print(f\"Predicted price for a {new_house_size} sqft house: {predicted_price.flatten()[0]} K$\")"
   ],
   "id": "7a7d67c3a6f629f3"
  }
 ],
 "metadata": {},
 "nbformat": 5,
 "nbformat_minor": 9
}
