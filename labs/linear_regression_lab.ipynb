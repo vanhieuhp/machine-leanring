{
 "cells": [
  {
   "metadata": {},
   "cell_type": "code",
   "outputs": [],
   "execution_count": null,
   "source": [
    "from __future__ import division, print_function, unicode_literals\n",
    "import numpy as np\n",
    "import matplotlib.pyplot as plt"
   ],
   "id": "2785259be773fe0"
  },
  {
   "metadata": {},
   "cell_type": "code",
   "outputs": [],
   "execution_count": null,
   "source": [
    "\n",
    "# height (cm)\n",
    "X = np.array([[147, 150, 153, 158, 163, 165, 168, 170, 173, 175, 178, 180, 183]]).T\n",
    "\n",
    "# weight (kg)\n",
    "y = np.array([[ 49, 50, 51,  54, 58, 59, 60, 62, 63, 64, 66, 67, 68]]).T\n",
    "\n",
    "print(f\"X\", X)\n",
    "print(f\"y\", y)\n",
    "\n",
    "# Visualize simple\n",
    "plt.plot(X, y, 'ro')\n",
    "plt.axis([140, 190, 45, 75])\n",
    "plt.xlabel('Height (cm)')\n",
    "plt.ylabel('Weight (kg)')\n",
    "plt.show()"
   ],
   "id": "ca626e04d4a72779"
  },
  {
   "metadata": {},
   "cell_type": "code",
   "outputs": [],
   "execution_count": null,
   "source": [
    "# Building Xbar\n",
    "one = np.ones((X.shape[0], 1))\n",
    "Xbar = np.concatenate((one, X), axis=1)\n",
    "\n",
    "print(f\"Xbar\", Xbar)\n",
    "print(f\"Xbar.T\", Xbar.T)\n",
    "\n",
    "A = np.dot(Xbar.T, Xbar)\n",
    "b = np.dot(Xbar.T, y)\n",
    "w = np.dot(np.linalg.pinv(A), b)\n",
    "\n",
    "print(f\"A\", A)\n",
    "print(f\"b\", b)\n",
    "print(f\"w\", w)"
   ],
   "id": "e9013a11d7d1312c"
  },
  {
   "metadata": {},
   "cell_type": "code",
   "outputs": [],
   "execution_count": null,
   "source": [
    "# Preparing the fitting line\n",
    "w_0 = w[0][0]\n",
    "w_1 = w[1][0]\n",
    "x0 = np.linspace(145, 185, 2)\n",
    "y0 = w_0 + w_1*x0\n",
    "\n",
    "print(x0)\n",
    "\n",
    "# Drawing the fitting line\n",
    "plt.plot(X.T, y.T, 'ro')     # simple\n",
    "plt.plot(x0, y0)               # the fitting line\n",
    "plt.axis([140, 190, 45, 75])\n",
    "plt.xlabel('Height (cm)')\n",
    "plt.ylabel('Weight (kg)')\n",
    "plt.show()"
   ],
   "id": "eb67978c8b40020e"
  },
  {
   "metadata": {},
   "cell_type": "code",
   "outputs": [],
   "execution_count": null,
   "source": [
    "y1 = w_1*155 + w_0\n",
    "y2 = w_1*160 + w_0\n",
    "\n",
    "print( u'Predict weight of person with height 155 cm: %.2f (kg), real number: 52 (kg)'  %(y1) )\n",
    "print( u'Predict weight of person with height 160 cm: %.2f (kg), real number: 56 (kg)'  %(y2) )"
   ],
   "id": "91c49cf0140dcf02"
  }
 ],
 "metadata": {},
 "nbformat": 5,
 "nbformat_minor": 9
}
